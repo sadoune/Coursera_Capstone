{
 "cells": [
  {
   "cell_type": "markdown",
   "metadata": {
    "colab_type": "text",
    "id": "TKc70lGav_zY"
   },
   "source": [
    "# Capstone Project — The Battle of Neighbourhoods"
   ]
  },
  {
   "cell_type": "markdown",
   "metadata": {
    "colab_type": "text",
    "id": "dlJiXemYv_zc"
   },
   "source": [
    "### Introduction\n",
    "<p>Montreal is the second-most populous city in Canada and most populous city in the Canadian province of Quebec. In 2016, the city had a population of 1,704,694, with a population of 1,942,247 in the urban agglomeration, including all of the other municipalities on the Island of Montreal. French is the city's official language and in 2016 was the main home language of 49.8% of the population, while English was spoken by 22.8% at home, and 18.3% spoke other languages</p> \n",
    "\n",
    "<p> Indoors and outdoors pools in Montreal are the perfect places to go, especially in summer. They are among the best free things to do in Montreal for all ages and numbers in among the best things to do with kids.</p>\n",
    "\n",
    "The goal of the project is to check if there are enough pools in Montreal, and to study how they are distributed on the Montreal island, and to check if there are enough in disadvantaged neighbourhoods.\n",
    "\n",
    "So as part of this project , we will list and visualise all major parts of Montreal.\n",
    "   </p>"
   ]
  },
  {
   "cell_type": "markdown",
   "metadata": {
    "colab_type": "text",
    "id": "CsGNuYelv_zd"
   },
   "source": [
    " ### Questions that can be asked using the above mentioned datasets\n",
    "- What is best location in Montreal City for pool swimming ? \n",
    "- Which areas have less pools ? \n",
    "- What is the relationship between availabality of pools, and mean population age ?\n",
    "- Analyse the disadvantaged neighbourhoods in order to propose building new pools in these areas ?\n"
   ]
  },
  {
   "cell_type": "markdown",
   "metadata": {
    "colab_type": "text",
    "id": "QD48llT0v_ze"
   },
   "source": [
    "### Data\n",
    "For this project we need the following data :\n",
    "<ul>\n",
    "<li> Montreal pools data that contains list Locality, pool name,type (indoor, outdoor) along with their latitude and longitude.\n",
    "<li> Montreal Census data,2016 that contains statistics by neiborhood.\n",
    "    <ul>\n",
    "        <li>Data source : <a href=\"https://donnees.montreal.ca/\">Open data, Montreal city</a>\n",
    " <li> Description : This data set contains the required information. And we will use this data set to explore various locality of Montreal.\n",
    "     </ul>\n",
    "<li> Nearby places in each locality of Montreal.\n",
    "        <ul>\n",
    "            <li>Data source : <a href=\"https://developer.foursquare.com/\"> Fousquare API </a>\n",
    "        <li> Description : By using this api we will get all the venues in each neighborhood. \n",
    "    \n",
    "\n",
    "### Approach\n",
    "- Collect the Montreal city data from <a href=\"https://donnees.montreal.ca/\">Open data, Montreal city</a>\n",
    "- Using FourSquare API we will find all venues for each neighborhood.\n",
    "- Filter out all venues that are nearby by locality.\n",
    "- Using aggregative rating for each pool to find the best places.\n",
    "- Visualize the Ranking of neighborhoods using folium library(python)"
   ]
  },
  {
   "cell_type": "code",
   "execution_count": null,
   "metadata": {},
   "outputs": [],
   "source": []
  }
 ],
 "metadata": {
  "colab": {
   "name": "Capstone Project — The Battle of Neighbourhoods.ipynb",
   "provenance": []
  },
  "kernelspec": {
   "display_name": "Python 3",
   "language": "python",
   "name": "python3"
  },
  "language_info": {
   "codemirror_mode": {
    "name": "ipython",
    "version": 3
   },
   "file_extension": ".py",
   "mimetype": "text/x-python",
   "name": "python",
   "nbconvert_exporter": "python",
   "pygments_lexer": "ipython3",
   "version": "3.8.5"
  }
 },
 "nbformat": 4,
 "nbformat_minor": 1
}
